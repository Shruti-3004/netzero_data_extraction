{
 "cells": [
  {
   "cell_type": "code",
   "execution_count": 2,
   "metadata": {},
   "outputs": [],
   "source": [
    "################ convert pdf to images ########################\n",
    "\n",
    "from pdf2image import convert_from_path\n",
    "import os\n",
    "\n",
    "def pdf_to_images(pdf, filename):\n",
    "    pdf = pdf.replace('\\\\', '\\\\\\\\')\n",
    "    # print(pdf)\n",
    "    images = convert_from_path(pdf)\n",
    "    for i in range(len(images)):\n",
    "        images[i].save('C:/NetZero_Data_Extraction/Xebia_Switzerland/images/{}_page{}'.format(filename, i) +'.jpg', 'JPEG')\n",
    "\n",
    "path = 'C:/Users/Lenovo/Downloads/OneDrive_2024-09-16/Xebia Switzerland/2024 Q1/Templates By Use-Cases/Airlines.pdf'\n",
    "\n",
    "# #store all the file names in this list\n",
    "# filelist = []\n",
    "\n",
    "# for root, dirs, files in os.walk(path):\n",
    "# \tfor file in files:\n",
    "#         #append the file name to the list\n",
    "# \t\tfilelist.append(os.path.join(root,file))\n",
    "\n",
    "\n",
    "# print all the file names\n",
    "# for file in filelist:\n",
    "filename = os.path.split(path)[-1].split('.pdf')[0]\n",
    "if ' ' in filename:\n",
    "    filename = filename.replace(' ', '_')\n",
    "# print(filename)\n",
    "try:\n",
    "    pdf_to_images(path, filename)  \n",
    "except:\n",
    "    pass"
   ]
  },
  {
   "cell_type": "code",
   "execution_count": 5,
   "metadata": {},
   "outputs": [
    {
     "data": {
      "text/plain": [
       "0"
      ]
     },
     "execution_count": 5,
     "metadata": {},
     "output_type": "execute_result"
    }
   ],
   "source": [
    "import os\n",
    "\n",
    "image = 'C:/NetZero_Data_Extraction/Xebia_Switzerland/images/Airlines_page0.jpg'\n",
    "command = 'tesseract {} stdout.txt -l eng --psm 4'.format(image)\n",
    "os.system(command)"
   ]
  },
  {
   "cell_type": "code",
   "execution_count": null,
   "metadata": {},
   "outputs": [],
   "source": []
  }
 ],
 "metadata": {
  "kernelspec": {
   "display_name": "tesseract_env",
   "language": "python",
   "name": "python3"
  },
  "language_info": {
   "codemirror_mode": {
    "name": "ipython",
    "version": 3
   },
   "file_extension": ".py",
   "mimetype": "text/x-python",
   "name": "python",
   "nbconvert_exporter": "python",
   "pygments_lexer": "ipython3",
   "version": "3.9.7"
  },
  "orig_nbformat": 4
 },
 "nbformat": 4,
 "nbformat_minor": 2
}
